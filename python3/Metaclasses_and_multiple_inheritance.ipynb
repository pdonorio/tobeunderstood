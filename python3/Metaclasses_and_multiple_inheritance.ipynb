{
 "cells": [
  {
   "cell_type": "markdown",
   "metadata": {},
   "source": [
    "# The problem\n",
    "    "
   ]
  },
  {
   "cell_type": "markdown",
   "metadata": {},
   "source": [
    "Using `abc.ABCmeta` does not work when adding another inheritance...\n",
    "    \n",
    "Here is an example:"
   ]
  },
  {
   "cell_type": "code",
   "execution_count": 2,
   "metadata": {
    "ExecuteTime": {
     "end_time": "2016-05-04T15:26:48.030452",
     "start_time": "2016-05-04T15:26:48.022242"
    },
    "collapsed": false
   },
   "outputs": [
    {
     "data": {
      "text/plain": [
       "__main__.IrodsException()"
      ]
     },
     "execution_count": 2,
     "metadata": {},
     "output_type": "execute_result"
    }
   ],
   "source": [
    "import abc\n",
    "\n",
    "class ExceptionErrorsParser(BaseException, metaclass=abc.ABCMeta):\n",
    "\n",
    "    @abc.abstractmethod\n",
    "    def parseError(self, error):\n",
    "        \"\"\"Parse the error to retrieve a human readable messagge\"\"\"\n",
    "        return\n",
    "\n",
    "class IrodsException(ExceptionErrorsParser):\n",
    "\n",
    "    pass\n",
    "\n",
    "IrodsException()"
   ]
  },
  {
   "cell_type": "markdown",
   "metadata": {},
   "source": [
    "# A possible solution\n",
    "    "
   ]
  },
  {
   "cell_type": "markdown",
   "metadata": {},
   "source": [
    "Define a class to make sure that some things can be checked when we create the new object."
   ]
  },
  {
   "cell_type": "code",
   "execution_count": 3,
   "metadata": {
    "ExecuteTime": {
     "end_time": "2016-05-04T15:26:50.220645",
     "start_time": "2016-05-04T15:26:50.211604"
    },
    "collapsed": true
   },
   "outputs": [],
   "source": [
    "class AbstractClass(object):\n",
    "\n",
    "    _required_methods = []\n",
    "\n",
    "    def __new__(cls, *p, **k):\n",
    "        required = cls._required_methods[::]\n",
    "        for attribute in cls.__dict__:\n",
    "            # print(attribute, required)\n",
    "            if attribute in required:\n",
    "                required.pop(required.index(attribute))\n",
    "\n",
    "        if len(required) > 0:\n",
    "            raise NotImplementedError(\n",
    "                \"Class '%s' is missing methods required by the parents: '%s'\"\n",
    "                % (cls.__name__, required) )\n",
    "\n",
    "        instance = super().__new__(cls)\n",
    "        return instance"
   ]
  },
  {
   "cell_type": "markdown",
   "metadata": {},
   "source": [
    "Use the class with multiple inheritance, but as the first parent:"
   ]
  },
  {
   "cell_type": "code",
   "execution_count": 4,
   "metadata": {
    "ExecuteTime": {
     "end_time": "2016-05-04T15:26:51.606062",
     "start_time": "2016-05-04T15:26:51.602260"
    },
    "collapsed": true
   },
   "outputs": [],
   "source": [
    "class ExceptionErrorsParser(AbstractClass, BaseException):\n",
    "\n",
    "    _required_methods = ['parseError']"
   ]
  },
  {
   "cell_type": "markdown",
   "metadata": {
    "ExecuteTime": {
     "end_time": "2016-05-04T15:26:52.673574",
     "start_time": "2016-05-04T15:26:52.669351"
    }
   },
   "source": [
    "If the method is missing we get the error:"
   ]
  },
  {
   "cell_type": "code",
   "execution_count": 6,
   "metadata": {
    "ExecuteTime": {
     "end_time": "2016-05-04T15:26:55.188058",
     "start_time": "2016-05-04T15:26:55.136502"
    },
    "collapsed": false,
    "run_control": {
     "frozen": false,
     "read_only": false
    }
   },
   "outputs": [
    {
     "ename": "NotImplementedError",
     "evalue": "Class 'IrodsException' is missing methods required by the parents: '['parseError']'",
     "output_type": "error",
     "traceback": [
      "\u001b[0;31m---------------------------------------------------------------------------\u001b[0m",
      "\u001b[0;31mNotImplementedError\u001b[0m                       Traceback (most recent call last)",
      "\u001b[0;32m<ipython-input-6-4b98009b1e53>\u001b[0m in \u001b[0;36m<module>\u001b[0;34m()\u001b[0m\n\u001b[1;32m      2\u001b[0m     \u001b[0;32mpass\u001b[0m\u001b[0;34m\u001b[0m\u001b[0m\n\u001b[1;32m      3\u001b[0m \u001b[0;34m\u001b[0m\u001b[0m\n\u001b[0;32m----> 4\u001b[0;31m \u001b[0mIrodsException\u001b[0m\u001b[0;34m(\u001b[0m\u001b[0;34m)\u001b[0m\u001b[0;34m\u001b[0m\u001b[0m\n\u001b[0m",
      "\u001b[0;32m<ipython-input-3-d131a8981960>\u001b[0m in \u001b[0;36m__new__\u001b[0;34m(cls, *p, **k)\u001b[0m\n\u001b[1;32m     13\u001b[0m             raise NotImplementedError(\n\u001b[1;32m     14\u001b[0m                 \u001b[0;34m\"Class '%s' is missing methods required by the parents: '%s'\"\u001b[0m\u001b[0;34m\u001b[0m\u001b[0m\n\u001b[0;32m---> 15\u001b[0;31m                 % (cls.__name__, required) )\n\u001b[0m\u001b[1;32m     16\u001b[0m \u001b[0;34m\u001b[0m\u001b[0m\n\u001b[1;32m     17\u001b[0m         \u001b[0minstance\u001b[0m \u001b[0;34m=\u001b[0m \u001b[0msuper\u001b[0m\u001b[0;34m(\u001b[0m\u001b[0;34m)\u001b[0m\u001b[0;34m.\u001b[0m\u001b[0m__new__\u001b[0m\u001b[0;34m(\u001b[0m\u001b[0mcls\u001b[0m\u001b[0;34m)\u001b[0m\u001b[0;34m\u001b[0m\u001b[0m\n",
      "\u001b[0;31mNotImplementedError\u001b[0m: Class 'IrodsException' is missing methods required by the parents: '['parseError']'"
     ]
    }
   ],
   "source": [
    "class IrodsException(ExceptionErrorsParser):\n",
    "    pass\n",
    "\n",
    "IrodsException()"
   ]
  },
  {
   "cell_type": "markdown",
   "metadata": {
    "ExecuteTime": {
     "end_time": "2016-05-04T15:26:52.673574",
     "start_time": "2016-05-04T15:26:52.669351"
    }
   },
   "source": [
    "If the method is there, everything goes smoothly:"
   ]
  },
  {
   "cell_type": "code",
   "execution_count": 7,
   "metadata": {
    "ExecuteTime": {
     "end_time": "2016-05-04T15:27:13.699173",
     "start_time": "2016-05-04T15:27:13.693617"
    },
    "collapsed": false,
    "run_control": {
     "frozen": false,
     "read_only": false
    }
   },
   "outputs": [
    {
     "data": {
      "text/plain": [
       "__main__.IrodsException()"
      ]
     },
     "execution_count": 7,
     "metadata": {},
     "output_type": "execute_result"
    }
   ],
   "source": [
    "class IrodsException(ExceptionErrorsParser):\n",
    "    def parseError(self):\n",
    "        return True\n",
    "\n",
    "IrodsException()"
   ]
  }
 ],
 "metadata": {
  "kernelspec": {
   "display_name": "Python 3",
   "language": "python",
   "name": "python3"
  },
  "language_info": {
   "codemirror_mode": {
    "name": "ipython",
    "version": 3
   },
   "file_extension": ".py",
   "mimetype": "text/x-python",
   "name": "python",
   "nbconvert_exporter": "python",
   "pygments_lexer": "ipython3",
   "version": "3.4.3"
  }
 },
 "nbformat": 4,
 "nbformat_minor": 0
}
